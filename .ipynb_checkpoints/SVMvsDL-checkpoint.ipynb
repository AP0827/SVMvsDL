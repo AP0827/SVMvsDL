{
 "cells": [
  {
   "cell_type": "code",
   "execution_count": 2,
   "id": "6a6da480-54fa-4b58-9d78-86822848a92d",
   "metadata": {},
   "outputs": [
    {
     "name": "stderr",
     "output_type": "stream",
     "text": [
      "2025-04-25 12:31:58.695611: I tensorflow/core/util/port.cc:153] oneDNN custom operations are on. You may see slightly different numerical results due to floating-point round-off errors from different computation orders. To turn them off, set the environment variable `TF_ENABLE_ONEDNN_OPTS=0`.\n",
      "2025-04-25 12:31:59.555164: I external/local_xla/xla/tsl/cuda/cudart_stub.cc:32] Could not find cuda drivers on your machine, GPU will not be used.\n",
      "2025-04-25 12:32:07.252433: I external/local_xla/xla/tsl/cuda/cudart_stub.cc:32] Could not find cuda drivers on your machine, GPU will not be used.\n",
      "2025-04-25 12:32:12.794763: E external/local_xla/xla/stream_executor/cuda/cuda_fft.cc:467] Unable to register cuFFT factory: Attempting to register factory for plugin cuFFT when one has already been registered\n",
      "WARNING: All log messages before absl::InitializeLog() is called are written to STDERR\n",
      "E0000 00:00:1745584335.886612     469 cuda_dnn.cc:8579] Unable to register cuDNN factory: Attempting to register factory for plugin cuDNN when one has already been registered\n",
      "E0000 00:00:1745584336.352374     469 cuda_blas.cc:1407] Unable to register cuBLAS factory: Attempting to register factory for plugin cuBLAS when one has already been registered\n",
      "W0000 00:00:1745584345.149531     469 computation_placer.cc:177] computation placer already registered. Please check linkage and avoid linking the same target more than once.\n",
      "W0000 00:00:1745584345.149690     469 computation_placer.cc:177] computation placer already registered. Please check linkage and avoid linking the same target more than once.\n",
      "W0000 00:00:1745584345.149695     469 computation_placer.cc:177] computation placer already registered. Please check linkage and avoid linking the same target more than once.\n",
      "W0000 00:00:1745584345.149697     469 computation_placer.cc:177] computation placer already registered. Please check linkage and avoid linking the same target more than once.\n",
      "2025-04-25 12:32:25.834694: I tensorflow/core/platform/cpu_feature_guard.cc:210] This TensorFlow binary is optimized to use available CPU instructions in performance-critical operations.\n",
      "To enable the following instructions: AVX2 AVX_VNNI FMA, in other operations, rebuild TensorFlow with the appropriate compiler flags.\n"
     ]
    }
   ],
   "source": [
    "import numpy as np\n",
    "import pandas as pd\n",
    "import matplotlib.pyplot as plt\n",
    "import io\n",
    "import tensorflow as tf"
   ]
  },
  {
   "cell_type": "code",
   "execution_count": 4,
   "id": "a43fb3e2-9c1f-4214-8476-675bf8597d0a",
   "metadata": {},
   "outputs": [],
   "source": [
    "def Load_WISDM_dataset(file_path):\n",
    "    cleaned_rows = []\n",
    "    with open(file_path, 'r') as f:\n",
    "        for line in f:\n",
    "            parts = line.strip().split(',')\n",
    "            # Line ends with ;, so we may get it as part of the last value\n",
    "            if len(parts) == 6 or len(parts) == 7:  # Acceptable lines\n",
    "                try:\n",
    "                    user = int(parts[0])\n",
    "                    activity = parts[1]\n",
    "                    timestamp = int(parts[2])\n",
    "                    x = float(parts[3])\n",
    "                    y = float(parts[4])\n",
    "                    z = float(parts[5].replace(';', ''))  # Clean the ;\n",
    "                    cleaned_rows.append([user, activity, timestamp, x, y, z])\n",
    "                except ValueError:\n",
    "                    continue  # skip malformed lines\n",
    "\n",
    "    columns = ['user', 'activity', 'timestamp', 'x', 'y', 'z']\n",
    "    df = pd.DataFrame(cleaned_rows, columns=columns)\n",
    "    return df"
   ]
  },
  {
   "cell_type": "code",
   "execution_count": 5,
   "id": "bf02ec13-1d06-4d2d-9792-dba562f4a331",
   "metadata": {},
   "outputs": [],
   "source": [
    "df = Load_WISDM_dataset('datasets/WISDM/WISDM_raw.txt')"
   ]
  },
  {
   "cell_type": "code",
   "execution_count": 6,
   "id": "17284a12-b3ce-4d83-849b-b066dfec75b5",
   "metadata": {},
   "outputs": [
    {
     "name": "stdout",
     "output_type": "stream",
     "text": [
      "activity\n",
      "Jogging       2946\n",
      "Walking       2654\n",
      "Upstairs      2214\n",
      "Downstairs    2186\n",
      "Name: count, dtype: int64\n",
      "(10000, 6)\n"
     ]
    },
    {
     "data": {
      "text/html": [
       "<div>\n",
       "<style scoped>\n",
       "    .dataframe tbody tr th:only-of-type {\n",
       "        vertical-align: middle;\n",
       "    }\n",
       "\n",
       "    .dataframe tbody tr th {\n",
       "        vertical-align: top;\n",
       "    }\n",
       "\n",
       "    .dataframe thead th {\n",
       "        text-align: right;\n",
       "    }\n",
       "</style>\n",
       "<table border=\"1\" class=\"dataframe\">\n",
       "  <thead>\n",
       "    <tr style=\"text-align: right;\">\n",
       "      <th></th>\n",
       "      <th>user</th>\n",
       "      <th>activity</th>\n",
       "      <th>timestamp</th>\n",
       "      <th>x</th>\n",
       "      <th>y</th>\n",
       "      <th>z</th>\n",
       "    </tr>\n",
       "  </thead>\n",
       "  <tbody>\n",
       "    <tr>\n",
       "      <th>0</th>\n",
       "      <td>33</td>\n",
       "      <td>Jogging</td>\n",
       "      <td>49105962326000</td>\n",
       "      <td>-0.694638</td>\n",
       "      <td>12.680544</td>\n",
       "      <td>0.503953</td>\n",
       "    </tr>\n",
       "    <tr>\n",
       "      <th>1</th>\n",
       "      <td>33</td>\n",
       "      <td>Jogging</td>\n",
       "      <td>49106062271000</td>\n",
       "      <td>5.012288</td>\n",
       "      <td>11.264028</td>\n",
       "      <td>0.953424</td>\n",
       "    </tr>\n",
       "    <tr>\n",
       "      <th>2</th>\n",
       "      <td>33</td>\n",
       "      <td>Jogging</td>\n",
       "      <td>49106112167000</td>\n",
       "      <td>4.903325</td>\n",
       "      <td>10.882658</td>\n",
       "      <td>-0.081722</td>\n",
       "    </tr>\n",
       "    <tr>\n",
       "      <th>3</th>\n",
       "      <td>33</td>\n",
       "      <td>Jogging</td>\n",
       "      <td>49106222305000</td>\n",
       "      <td>-0.612916</td>\n",
       "      <td>18.496431</td>\n",
       "      <td>3.023717</td>\n",
       "    </tr>\n",
       "    <tr>\n",
       "      <th>4</th>\n",
       "      <td>33</td>\n",
       "      <td>Jogging</td>\n",
       "      <td>49106332290000</td>\n",
       "      <td>-1.184970</td>\n",
       "      <td>12.108489</td>\n",
       "      <td>7.205164</td>\n",
       "    </tr>\n",
       "  </tbody>\n",
       "</table>\n",
       "</div>"
      ],
      "text/plain": [
       "   user activity       timestamp         x          y         z\n",
       "0    33  Jogging  49105962326000 -0.694638  12.680544  0.503953\n",
       "1    33  Jogging  49106062271000  5.012288  11.264028  0.953424\n",
       "2    33  Jogging  49106112167000  4.903325  10.882658 -0.081722\n",
       "3    33  Jogging  49106222305000 -0.612916  18.496431  3.023717\n",
       "4    33  Jogging  49106332290000 -1.184970  12.108489  7.205164"
      ]
     },
     "execution_count": 6,
     "metadata": {},
     "output_type": "execute_result"
    }
   ],
   "source": [
    "df = df.iloc[:10000].copy()\n",
    "print(df['activity'].value_counts())\n",
    "print(df.shape)\n",
    "df.head()"
   ]
  },
  {
   "cell_type": "code",
   "execution_count": 7,
   "id": "390d94d8-e715-4741-8600-d452c1a1c691",
   "metadata": {},
   "outputs": [],
   "source": [
    "def extract_features_from_window(window):\n",
    "    features = []\n",
    "\n",
    "    for axis in ['x', 'y', 'z']:\n",
    "        data = window[axis]\n",
    "        features += [\n",
    "            data.mean(),\n",
    "            data.std(),\n",
    "            data.min(),\n",
    "            data.max(),\n",
    "            data.median(),\n",
    "            np.sqrt(np.sum(data**2)),  # Energy\n",
    "        ]\n",
    "    return features\n"
   ]
  },
  {
   "cell_type": "code",
   "execution_count": 8,
   "id": "c5cb2211-e7a4-48d4-90c8-fb892be6cae5",
   "metadata": {},
   "outputs": [],
   "source": [
    "def create_feature_dataset(df, window_size=50, step_size=25):\n",
    "    X_features = []\n",
    "    y_labels = []\n",
    "\n",
    "    for user_id in df['user'].unique():\n",
    "        user_data = df[df['user'] == user_id]\n",
    "\n",
    "        for i in range(0, len(user_data) - window_size, step_size):\n",
    "            window = user_data.iloc[i:i+window_size]\n",
    "            if len(window['activity'].unique()) == 1:\n",
    "                features = extract_features_from_window(window)\n",
    "                X_features.append(features)\n",
    "                y_labels.append(window['activity'].iloc[0])\n",
    "\n",
    "    return np.array(X_features), np.array(y_labels)\n"
   ]
  },
  {
   "cell_type": "code",
   "execution_count": 10,
   "id": "9dfb2809-12b6-4834-a0c4-50b698880265",
   "metadata": {},
   "outputs": [],
   "source": [
    "from sklearn.model_selection import train_test_split\n",
    "from sklearn.svm import SVC\n",
    "from sklearn.preprocessing import StandardScaler\n",
    "from sklearn.metrics import classification_report"
   ]
  },
  {
   "cell_type": "code",
   "execution_count": 9,
   "id": "d06f1f83-6aad-4496-b411-2a3e29ad745d",
   "metadata": {},
   "outputs": [
    {
     "name": "stdout",
     "output_type": "stream",
     "text": [
      "(373, 18) (373,)\n"
     ]
    }
   ],
   "source": [
    "\n",
    "# Generate features\n",
    "X, y = create_feature_dataset(df, window_size=50, step_size=25)\n",
    "print(X.shape, y.shape)\n"
   ]
  },
  {
   "cell_type": "code",
   "execution_count": 11,
   "id": "40cb56c7-f314-47ff-a20d-d64012fdf8ef",
   "metadata": {},
   "outputs": [],
   "source": [
    "from sklearn.preprocessing import LabelEncoder\n",
    "\n",
    "# Encode activity labels to integers\n",
    "le = LabelEncoder()\n",
    "y_encoded = le.fit_transform(y)"
   ]
  },
  {
   "cell_type": "code",
   "execution_count": 12,
   "id": "bd1a5ffd-e724-4432-8a1b-71331a39efea",
   "metadata": {},
   "outputs": [],
   "source": [
    "# Train/Test split with encoded labels\n",
    "X_train, X_test, y_train, y_test = train_test_split(X, y_encoded, test_size=0.2, random_state=42)"
   ]
  },
  {
   "cell_type": "code",
   "execution_count": 13,
   "id": "47053d09-0aab-4cde-85d1-983a3b0f1332",
   "metadata": {},
   "outputs": [
    {
     "name": "stdout",
     "output_type": "stream",
     "text": [
      "              precision    recall  f1-score   support\n",
      "\n",
      "           0       0.94      1.00      0.97        17\n",
      "           1       1.00      1.00      1.00        20\n",
      "           2       1.00      0.94      0.97        16\n",
      "           3       1.00      1.00      1.00        22\n",
      "\n",
      "    accuracy                           0.99        75\n",
      "   macro avg       0.99      0.98      0.98        75\n",
      "weighted avg       0.99      0.99      0.99        75\n",
      "\n"
     ]
    }
   ],
   "source": [
    "# Normalize\n",
    "scaler = StandardScaler()\n",
    "X_train = scaler.fit_transform(X_train)\n",
    "X_test = scaler.transform(X_test)\n",
    "\n",
    "# Train SVM\n",
    "svm = SVC(kernel='rbf', C=1)\n",
    "svm.fit(X_train, y_train)\n",
    "\n",
    "# Evaluate\n",
    "y_pred = svm.predict(X_test)\n",
    "print(classification_report(y_test, y_pred))"
   ]
  },
  {
   "cell_type": "code",
   "execution_count": null,
   "id": "30fc25e7-b86e-4e27-a9f8-7cd099dd9b4d",
   "metadata": {},
   "outputs": [],
   "source": []
  }
 ],
 "metadata": {
  "kernelspec": {
   "display_name": "Python 3 (ipykernel)",
   "language": "python",
   "name": "python3"
  },
  "language_info": {
   "codemirror_mode": {
    "name": "ipython",
    "version": 3
   },
   "file_extension": ".py",
   "mimetype": "text/x-python",
   "name": "python",
   "nbconvert_exporter": "python",
   "pygments_lexer": "ipython3",
   "version": "3.10.17"
  }
 },
 "nbformat": 4,
 "nbformat_minor": 5
}
